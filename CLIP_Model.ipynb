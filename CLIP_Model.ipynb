{
  "nbformat": 4,
  "nbformat_minor": 0,
  "metadata": {
    "colab": {
      "provenance": []
    },
    "kernelspec": {
      "name": "python3",
      "display_name": "Python 3"
    },
    "language_info": {
      "name": "python"
    }
  },
  "cells": [
    {
      "cell_type": "code",
      "execution_count": null,
      "metadata": {
        "id": "Q15HnSu9hIJw"
      },
      "outputs": [],
      "source": [
        "!pip install pymupdf transformers torch"
      ]
    },
    {
      "cell_type": "code",
      "source": [
        "import fitz  # PyMuPDF\n",
        "import os\n",
        "import json\n",
        "from transformers import pipeline\n",
        "\n",
        "# Define paths\n",
        "pdf_folder = \"/content/pdf\"\n",
        "output_dir = \"/content/images\"\n",
        "os.makedirs(output_dir, exist_ok=True)\n",
        "\n",
        "# Load summarization model\n",
        "summarizer = pipeline(\"summarization\", model=\"t5-small\")\n",
        "\n",
        "# Get list of PDF files\n",
        "pdf_files = [f for f in os.listdir(pdf_folder) if f.endswith(\".pdf\")]\n",
        "\n",
        "documents = []\n",
        "\n",
        "# Iterate over each PDF\n",
        "for pdf_file in pdf_files:\n",
        "    pdf_path = os.path.join(pdf_folder, pdf_file)\n",
        "    doc = fitz.open(pdf_path)\n",
        "\n",
        "    # Iterate through pages\n",
        "    for page_num in range(len(doc)):\n",
        "        page = doc[page_num]\n",
        "        images = page.get_images(full=True)\n",
        "\n",
        "        for img_index, img in enumerate(images):\n",
        "            xref = img[0]\n",
        "            base_image = doc.extract_image(xref)\n",
        "            img_bytes = base_image[\"image\"]\n",
        "            img_ext = base_image[\"ext\"]  # Image format\n",
        "\n",
        "            # Save image in its original format\n",
        "            image_filename = f\"{output_dir}/{pdf_file}_page{page_num + 1}_img{img_index + 1}.{img_ext}\"\n",
        "            with open(image_filename, \"wb\") as img_file:\n",
        "                img_file.write(img_bytes)\n",
        "\n",
        "            # Extract surrounding text\n",
        "            text = page.get_text(\"text\").strip()\n",
        "            text_lines = text.split(\"\\n\")\n",
        "            surrounding_text = \" \".join(text_lines[:10])  # Get first 10 lines\n",
        "\n",
        "            # Generate summary if text is long enough\n",
        "            if len(surrounding_text) > 50:\n",
        "                summary = summarizer(surrounding_text, max_length=50, min_length=20, do_sample=False)[0][\"summary_text\"]\n",
        "            else:\n",
        "                summary = surrounding_text  # Use original if too short\n",
        "\n",
        "            # Store extracted info\n",
        "            documents.append({\n",
        "                \"pdf\": pdf_file,\n",
        "                \"page\": page_num + 1,\n",
        "                \"text\": summary,\n",
        "                \"image\": image_filename\n",
        "            })\n",
        "\n",
        "# Save structured documents to JSON\n",
        "json_path = os.path.join(output_dir, \"multimodal_documents.json\")\n",
        "with open(json_path, \"w\") as json_file:\n",
        "    json.dump(documents, json_file, indent=4)\n",
        "\n",
        "print(f\"✅ Processing completed. JSON saved in {json_path}\")\n"
      ],
      "metadata": {
        "id": "lwZ-V4yHhMbU"
      },
      "execution_count": null,
      "outputs": []
    },
    {
      "cell_type": "code",
      "source": [
        "# Verify document\n",
        "documents"
      ],
      "metadata": {
        "id": "EGus2l0AhOhN"
      },
      "execution_count": null,
      "outputs": []
    },
    {
      "cell_type": "code",
      "source": [
        "!pip install fastembed"
      ],
      "metadata": {
        "id": "_fB3_cC7hW-i"
      },
      "execution_count": null,
      "outputs": []
    },
    {
      "cell_type": "code",
      "source": [
        "from fastembed import TextEmbedding, ImageEmbedding\n",
        "\n",
        "class EmbedData:\n",
        "    def __init__(self,\n",
        "                 documents,\n",
        "                 text_model_name=\"Qdrant/clip-ViT-B-32-text\",\n",
        "                 image_model_name=\"Qdrant/clip-ViT-B-32-vision\"):\n",
        "\n",
        "        # Initialize text embedding model\n",
        "        self.documents = documents\n",
        "        self.text_model = TextEmbedding(model_name=text_model_name)\n",
        "        text_description = self.text_model._get_model_description(text_model_name)\n",
        "        self.text_embed_dim = text_description.dim  # Use attribute access\n",
        "\n",
        "        # Initialize image embedding model\n",
        "        self.image_model = ImageEmbedding(model_name=image_model_name)\n",
        "        image_description = self.image_model._get_model_description(image_model_name)\n",
        "        self.image_embed_dim = image_description.dim  # Use attribute access\n",
        "\n",
        "\n",
        "    def embed_texts(self, texts):\n",
        "      text_embeddings = list(self.text_model.embed(texts))\n",
        "      return text_embeddings\n",
        "\n",
        "    def embed_images(self, images):\n",
        "      image_embeddings = list(self.image_model.embed(images))\n",
        "      return image_embeddings\n",
        "\n",
        "embeddata = EmbedData(documents)\n",
        "\n",
        "embeddata.text_embeds = embeddata.embed_texts([doc[\"text\"]for doc in documents])\n",
        "embeddata.image_embeds = embeddata.embed_images([doc[\"image\"]for doc in documents])"
      ],
      "metadata": {
        "id": "cZF2tTVchaJs"
      },
      "execution_count": null,
      "outputs": []
    },
    {
      "cell_type": "code",
      "source": [
        "from google.colab import files\n",
        "import shutil\n",
        "\n",
        "# First, compress your folder into a zip file\n",
        "folder_name = \"/content/images\"  # Replace with your folder name\n",
        "zip_file = f\"{folder_name}.zip\"\n",
        "\n",
        "# Create a zip archive of the folder\n",
        "shutil.make_archive(folder_name, 'zip', folder_name)\n",
        "\n",
        "# Download the zip file\n",
        "files.download(zip_file)"
      ],
      "metadata": {
        "id": "supeFQ1shfEB"
      },
      "execution_count": null,
      "outputs": []
    },
    {
      "cell_type": "code",
      "source": [
        "!pip install qdrant-client"
      ],
      "metadata": {
        "id": "zJ4GPqeDhhHd"
      },
      "execution_count": null,
      "outputs": []
    },
    {
      "cell_type": "code",
      "source": [
        "from qdrant_client import QdrantClient, models\n",
        "\n",
        "class QdrantVDB:\n",
        "    def __init__(self,\n",
        "                 collection_name,\n",
        "                 image_dim,\n",
        "                 text_dim,\n",
        "                 url=\"\",\n",
        "                 api_key=\"\"):  # Add api_key for cloud access\n",
        "\n",
        "        self.image_dim = image_dim\n",
        "        self.text_dim = text_dim\n",
        "        self.collection_name = collection_name\n",
        "\n",
        "        # Initialize Qdrant client for cloud with API key\n",
        "        self.client = QdrantClient(\n",
        "            url=url,\n",
        "            api_key=api_key,  # This is mandatory for Qdrant Cloud\n",
        "            prefer_grpc=True\n",
        "        )\n",
        "\n",
        "    def create_collection(self):\n",
        "        if not self.client.collection_exists(self.collection_name):\n",
        "\n",
        "            print(f\"Creating collection '{self.collection_name}'...\")\n",
        "\n",
        "            self.client.create_collection(\n",
        "                collection_name=self.collection_name,\n",
        "                vectors_config={\n",
        "                    \"image\": models.VectorParams(size=self.image_dim,\n",
        "                                                 distance=models.Distance.COSINE),\n",
        "                    \"text\": models.VectorParams(size=self.text_dim,\n",
        "                                                distance=models.Distance.COSINE),\n",
        "                }\n",
        "            )\n",
        "\n",
        "            print(f\"Collection '{self.collection_name}' created successfully.\")\n",
        "        else:\n",
        "            print(f\"Collection '{self.collection_name}' already exists.\")\n",
        "\n",
        "    def upload_embeddings(self, embeddata):\n",
        "        print(f\"Uploading points to collection '{self.collection_name}'...\")\n",
        "\n",
        "        points = []\n",
        "\n",
        "        for idx, doc in enumerate(embeddata.documents):\n",
        "            point = models.PointStruct(\n",
        "                id=idx,  # Unique ID for each point\n",
        "                vector={\n",
        "                    \"text\": embeddata.text_embeds[idx],\n",
        "                    \"image\": embeddata.image_embeds[idx],\n",
        "                },\n",
        "                payload=doc  # Original image and its caption\n",
        "            )\n",
        "\n",
        "            points.append(point)\n",
        "\n",
        "        self.client.upload_points(collection_name=self.collection_name, points=points)\n",
        "\n",
        "        print(f\"Uploaded {len(points)} points to collection '{self.collection_name}'.\")"
      ],
      "metadata": {
        "id": "HZGwoeb-hmXG"
      },
      "execution_count": null,
      "outputs": []
    },
    {
      "cell_type": "code",
      "source": [
        "vector_db = QdrantVDB(\"Chapter1_Edubot\",\n",
        "                      embeddata.image_embed_dim,\n",
        "                      embeddata.text_embed_dim)\n",
        "\n",
        "vector_db.create_collection()\n",
        "\n",
        "vector_db.upload_embeddings(embeddata)"
      ],
      "metadata": {
        "id": "1xMx0MbDige9"
      },
      "execution_count": null,
      "outputs": []
    },
    {
      "cell_type": "code",
      "source": [
        "class Retriever:\n",
        "\n",
        "    def __init__(self, vector_db, embeddata):\n",
        "        self.vector_db = vector_db\n",
        "        self.embeddata = embeddata\n",
        "\n",
        "    def search(self, query, limit=3):\n",
        "        query_embedding = list(self.embeddata.embed_texts(query))[0]\n",
        "\n",
        "        result = self.vector_db.client.search(\n",
        "            collection_name=self.vector_db.collection_name,\n",
        "            query_vector=(\"image\", query_embedding),\n",
        "            with_payload=[\"image\", \"text\"],\n",
        "            limit=limit\n",
        "        )\n",
        "\n",
        "        return result\n"
      ],
      "metadata": {
        "id": "c4hbWyjviidY"
      },
      "execution_count": null,
      "outputs": []
    },
    {
      "cell_type": "code",
      "source": [
        "def Img_retriever(query):\n",
        "  result = Retriever(vector_db, embeddata).search(query, limit=1)\n",
        "\n",
        "  for i in result:\n",
        "    print(i.payload[\"text\"])\n",
        "\n",
        "    display(PIL.Image.open(i.payload[\"image\"]))"
      ],
      "metadata": {
        "id": "tWkKMZArikLr"
      },
      "execution_count": null,
      "outputs": []
    },
    {
      "cell_type": "code",
      "source": [
        "from PIL import Image\n",
        "import PIL\n",
        "\n",
        "query = \"What are Agricultural Implements\"\n",
        "\n",
        "result = Retriever(vector_db, embeddata).search(query, limit=1)\n",
        "\n",
        "for i in result:\n",
        "    print(i.payload[\"text\"])\n",
        "\n",
        "    display(PIL.Image.open(i.payload[\"image\"]))"
      ],
      "metadata": {
        "id": "wxxpOd3Filug"
      },
      "execution_count": null,
      "outputs": []
    }
  ]
}